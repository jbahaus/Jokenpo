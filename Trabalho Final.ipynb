{
 "cells": [
  {
   "cell_type": "code",
   "execution_count": 3,
   "metadata": {},
   "outputs": [],
   "source": [
    "import random as rd\n",
    "count = 0\n",
    "vit = 0\n",
    "der = 0\n",
    "emp = 0\n",
    "x = 0\n",
    "lista =  ('Pedra','Papel','Tesoura')\n",
    "\n",
    "def menu():\n",
    "    print(\"Escolha \")\n",
    "    print(\"0 - Pedra\")\n",
    "    print(\"1 - Papel\")\n",
    "    print(\"2 - Tesoura\")\n",
    "    x = int(input(\"Escolha: \"))\n",
    "    if x > 2 or x < 0:\n",
    "        x = 5\n",
    "        return x\n",
    "    return x\n",
    "\n",
    "def jogo(y,x):\n",
    "    if y == 0:\n",
    "        if x == 0:\n",
    "            return(print(\"\\n Empate\"))\n",
    "        elif x == 1:\n",
    "            return(print(\"\\n Você Ganhou\"))\n",
    "        elif x == 2:\n",
    "            return(print(\"\\n Você Perdeu\"))\n",
    "    elif y == 1:\n",
    "        if x == 1:\n",
    "            return(print(\"\\n Empate\"))\n",
    "        elif x == 0:\n",
    "            return(print(\"\\n Você Perdeu\"))\n",
    "        elif x == 1:            \n",
    "            return(print(\"\\n Você Ganhou\"))\n",
    "    elif y == 2:\n",
    "        if x == 2:\n",
    "            return(print(\"\\n Empate\"))\n",
    "        elif x == 0:\n",
    "            return(print(\"\\n Você Ganhou\"))\n",
    "        elif x == 1:\n",
    "            return(print(\"\\n Você Perdeu\"))"
   ]
  },
  {
   "cell_type": "code",
   "execution_count": 4,
   "metadata": {},
   "outputs": [
    {
     "name": "stdout",
     "output_type": "stream",
     "text": [
      "Escolha \n",
      "0 - Pedra\n",
      "1 - Papel\n",
      "2 - Tesoura\n",
      "Escolha: 1\n",
      "Você escolheu Papel\n",
      "Adversário escolheu Pedra\n",
      "\n",
      " Você Ganhou\n",
      "\n",
      " Você Ganhou\n"
     ]
    },
    {
     "ename": "TypeError",
     "evalue": "'in <string>' requires string as left operand, not NoneType",
     "output_type": "error",
     "traceback": [
      "\u001b[1;31m---------------------------------------------------------------------------\u001b[0m",
      "\u001b[1;31mTypeError\u001b[0m                                 Traceback (most recent call last)",
      "\u001b[1;32m<ipython-input-4-5da528720263>\u001b[0m in \u001b[0;36m<module>\u001b[1;34m\u001b[0m\n\u001b[0;32m      8\u001b[0m     \u001b[0mcount\u001b[0m \u001b[1;33m=\u001b[0m \u001b[0mcount\u001b[0m \u001b[1;33m+\u001b[0m \u001b[1;36m1\u001b[0m\u001b[1;33m\u001b[0m\u001b[1;33m\u001b[0m\u001b[0m\n\u001b[0;32m      9\u001b[0m     \u001b[0mjogo\u001b[0m\u001b[1;33m(\u001b[0m\u001b[0my\u001b[0m\u001b[1;33m,\u001b[0m\u001b[0mx\u001b[0m\u001b[1;33m)\u001b[0m\u001b[1;33m\u001b[0m\u001b[1;33m\u001b[0m\u001b[0m\n\u001b[1;32m---> 10\u001b[1;33m     \u001b[1;32mif\u001b[0m \u001b[0mjogo\u001b[0m\u001b[1;33m(\u001b[0m\u001b[0my\u001b[0m\u001b[1;33m,\u001b[0m\u001b[0mx\u001b[0m\u001b[1;33m)\u001b[0m \u001b[1;32min\u001b[0m \u001b[1;34m\"\\n Empate\"\u001b[0m\u001b[1;33m:\u001b[0m\u001b[1;33m\u001b[0m\u001b[1;33m\u001b[0m\u001b[0m\n\u001b[0m\u001b[0;32m     11\u001b[0m         \u001b[0mprint\u001b[0m\u001b[1;33m(\u001b[0m\u001b[1;34m\"loko\"\u001b[0m\u001b[1;33m)\u001b[0m\u001b[1;33m\u001b[0m\u001b[1;33m\u001b[0m\u001b[0m\n\u001b[0;32m     12\u001b[0m     \u001b[0mprint\u001b[0m\u001b[1;33m(\u001b[0m\u001b[1;34m\"\\n \"\u001b[0m\u001b[1;33m)\u001b[0m\u001b[1;33m\u001b[0m\u001b[1;33m\u001b[0m\u001b[0m\n",
      "\u001b[1;31mTypeError\u001b[0m: 'in <string>' requires string as left operand, not NoneType"
     ]
    }
   ],
   "source": [
    "while x != 5:\n",
    "    x = menu()\n",
    "    if x != 5:\n",
    "        print(\"Você escolheu {}\".format(lista[x]))\n",
    "    y = rd.randint(0,2)\n",
    "    if x != 5:\n",
    "        print(\"Adversário escolheu {}\".format(lista[y]))\n",
    "    count = count + 1\n",
    "    jogo(y,x)\n",
    "    print(\"\\n \")\n",
    "    \n",
    "print(\"Você Saiu do Jogo\")"
   ]
  },
  {
   "cell_type": "code",
   "execution_count": 6,
   "metadata": {},
   "outputs": [
    {
     "data": {
      "text/plain": [
       "0.0"
      ]
     },
     "execution_count": 6,
     "metadata": {},
     "output_type": "execute_result"
    }
   ],
   "source": [
    "def count(count,vit,emp,der):\n",
    "    print(\"Partidas Jogadas {}\".format(count))\n",
    "    print(\"Vitórias {}%\".format((vit/count)*100))\n",
    "    print(\"Empates {}%\".format((emp/count)*100))\n",
    "    print(\"Derrotas {}%\".format((der/count)*100))"
   ]
  }
 ],
 "metadata": {
  "kernelspec": {
   "display_name": "Python 3",
   "language": "python",
   "name": "python3"
  },
  "language_info": {
   "codemirror_mode": {
    "name": "ipython",
    "version": 3
   },
   "file_extension": ".py",
   "mimetype": "text/x-python",
   "name": "python",
   "nbconvert_exporter": "python",
   "pygments_lexer": "ipython3",
   "version": "3.7.3"
  }
 },
 "nbformat": 4,
 "nbformat_minor": 2
}
